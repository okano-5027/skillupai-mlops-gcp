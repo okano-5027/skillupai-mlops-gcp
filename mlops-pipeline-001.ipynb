{
 "cells": [
  {
   "cell_type": "markdown",
   "id": "668ccc1b-aaff-483d-8bc6-69b7d2c6dfca",
   "metadata": {
    "id": "668ccc1b-aaff-483d-8bc6-69b7d2c6dfca"
   },
   "source": [
    "## 環境構築"
   ]
  },
  {
   "cell_type": "markdown",
   "id": "ab360a59",
   "metadata": {},
   "source": [
    "### 注意点\n",
    "本ノートブックは、講座の教材の手順に沿って、セル内のコードを1つずつ実行することを想定して作成されています。\n",
    "\n",
    "Run All 等のコマンドで連続実行しないようにしましょう。"
   ]
  },
  {
   "cell_type": "code",
   "execution_count": 2,
   "id": "e1bf2a91-e15a-460e-8d95-ca3530228976",
   "metadata": {
    "collapsed": true,
    "id": "e1bf2a91-e15a-460e-8d95-ca3530228976",
    "jupyter": {
     "outputs_hidden": true
    },
    "outputId": "c7fd447e-32df-4eda-a63e-6fd05566477f",
    "tags": []
   },
   "outputs": [
    {
     "name": "stdout",
     "output_type": "stream",
     "text": [
      "Requirement already satisfied: pip in /opt/conda/lib/python3.7/site-packages (22.0.4)\n",
      "Requirement already satisfied: google-cloud-aiplatform==1.7.0 in /home/jupyter/.local/lib/python3.7/site-packages (1.7.0)\n",
      "Requirement already satisfied: google-api-core[grpc]<3.0.0dev,>=1.26.0 in /home/jupyter/.local/lib/python3.7/site-packages (from google-cloud-aiplatform==1.7.0) (1.31.5)\n",
      "Requirement already satisfied: proto-plus>=1.10.1 in /opt/conda/lib/python3.7/site-packages (from google-cloud-aiplatform==1.7.0) (1.20.3)\n",
      "Requirement already satisfied: google-cloud-bigquery<3.0.0dev,>=1.15.0 in /opt/conda/lib/python3.7/site-packages (from google-cloud-aiplatform==1.7.0) (2.34.2)\n",
      "Requirement already satisfied: google-cloud-storage<2.0.0dev,>=1.32.0 in /home/jupyter/.local/lib/python3.7/site-packages (from google-cloud-aiplatform==1.7.0) (1.44.0)\n",
      "Requirement already satisfied: packaging>=14.3 in /opt/conda/lib/python3.7/site-packages (from google-cloud-aiplatform==1.7.0) (21.3)\n",
      "Requirement already satisfied: six>=1.13.0 in /opt/conda/lib/python3.7/site-packages (from google-api-core[grpc]<3.0.0dev,>=1.26.0->google-cloud-aiplatform==1.7.0) (1.16.0)\n",
      "Requirement already satisfied: pytz in /opt/conda/lib/python3.7/site-packages (from google-api-core[grpc]<3.0.0dev,>=1.26.0->google-cloud-aiplatform==1.7.0) (2021.3)\n",
      "Requirement already satisfied: google-auth<2.0dev,>=1.25.0 in /home/jupyter/.local/lib/python3.7/site-packages (from google-api-core[grpc]<3.0.0dev,>=1.26.0->google-cloud-aiplatform==1.7.0) (1.35.0)\n",
      "Requirement already satisfied: protobuf>=3.12.0 in /opt/conda/lib/python3.7/site-packages (from google-api-core[grpc]<3.0.0dev,>=1.26.0->google-cloud-aiplatform==1.7.0) (3.19.4)\n",
      "Requirement already satisfied: setuptools>=40.3.0 in /opt/conda/lib/python3.7/site-packages (from google-api-core[grpc]<3.0.0dev,>=1.26.0->google-cloud-aiplatform==1.7.0) (59.8.0)\n",
      "Requirement already satisfied: requests<3.0.0dev,>=2.18.0 in /opt/conda/lib/python3.7/site-packages (from google-api-core[grpc]<3.0.0dev,>=1.26.0->google-cloud-aiplatform==1.7.0) (2.27.1)\n",
      "Requirement already satisfied: googleapis-common-protos<2.0dev,>=1.6.0 in /opt/conda/lib/python3.7/site-packages (from google-api-core[grpc]<3.0.0dev,>=1.26.0->google-cloud-aiplatform==1.7.0) (1.54.0)\n",
      "Requirement already satisfied: grpcio<2.0dev,>=1.29.0 in /opt/conda/lib/python3.7/site-packages (from google-api-core[grpc]<3.0.0dev,>=1.26.0->google-cloud-aiplatform==1.7.0) (1.44.0)\n",
      "Requirement already satisfied: google-resumable-media<3.0dev,>=0.6.0 in /opt/conda/lib/python3.7/site-packages (from google-cloud-bigquery<3.0.0dev,>=1.15.0->google-cloud-aiplatform==1.7.0) (2.3.2)\n",
      "Requirement already satisfied: google-cloud-core<3.0.0dev,>=1.4.1 in /opt/conda/lib/python3.7/site-packages (from google-cloud-bigquery<3.0.0dev,>=1.15.0->google-cloud-aiplatform==1.7.0) (2.2.3)\n",
      "Requirement already satisfied: python-dateutil<3.0dev,>=2.7.2 in /opt/conda/lib/python3.7/site-packages (from google-cloud-bigquery<3.0.0dev,>=1.15.0->google-cloud-aiplatform==1.7.0) (2.8.2)\n",
      "Requirement already satisfied: pyparsing!=3.0.5,>=2.0.2 in /opt/conda/lib/python3.7/site-packages (from packaging>=14.3->google-cloud-aiplatform==1.7.0) (3.0.7)\n",
      "Requirement already satisfied: pyasn1-modules>=0.2.1 in /opt/conda/lib/python3.7/site-packages (from google-auth<2.0dev,>=1.25.0->google-api-core[grpc]<3.0.0dev,>=1.26.0->google-cloud-aiplatform==1.7.0) (0.2.7)\n",
      "Requirement already satisfied: rsa<5,>=3.1.4 in /opt/conda/lib/python3.7/site-packages (from google-auth<2.0dev,>=1.25.0->google-api-core[grpc]<3.0.0dev,>=1.26.0->google-cloud-aiplatform==1.7.0) (4.8)\n",
      "Requirement already satisfied: cachetools<5.0,>=2.0.0 in /home/jupyter/.local/lib/python3.7/site-packages (from google-auth<2.0dev,>=1.25.0->google-api-core[grpc]<3.0.0dev,>=1.26.0->google-cloud-aiplatform==1.7.0) (4.2.4)\n",
      "Requirement already satisfied: google-crc32c<2.0dev,>=1.0 in /opt/conda/lib/python3.7/site-packages (from google-resumable-media<3.0dev,>=0.6.0->google-cloud-bigquery<3.0.0dev,>=1.15.0->google-cloud-aiplatform==1.7.0) (1.1.2)\n",
      "Requirement already satisfied: idna<4,>=2.5 in /opt/conda/lib/python3.7/site-packages (from requests<3.0.0dev,>=2.18.0->google-api-core[grpc]<3.0.0dev,>=1.26.0->google-cloud-aiplatform==1.7.0) (3.3)\n",
      "Requirement already satisfied: urllib3<1.27,>=1.21.1 in /opt/conda/lib/python3.7/site-packages (from requests<3.0.0dev,>=2.18.0->google-api-core[grpc]<3.0.0dev,>=1.26.0->google-cloud-aiplatform==1.7.0) (1.26.8)\n",
      "Requirement already satisfied: certifi>=2017.4.17 in /opt/conda/lib/python3.7/site-packages (from requests<3.0.0dev,>=2.18.0->google-api-core[grpc]<3.0.0dev,>=1.26.0->google-cloud-aiplatform==1.7.0) (2021.10.8)\n",
      "Requirement already satisfied: charset-normalizer~=2.0.0 in /opt/conda/lib/python3.7/site-packages (from requests<3.0.0dev,>=2.18.0->google-api-core[grpc]<3.0.0dev,>=1.26.0->google-cloud-aiplatform==1.7.0) (2.0.12)\n",
      "Requirement already satisfied: cffi>=1.0.0 in /opt/conda/lib/python3.7/site-packages (from google-crc32c<2.0dev,>=1.0->google-resumable-media<3.0dev,>=0.6.0->google-cloud-bigquery<3.0.0dev,>=1.15.0->google-cloud-aiplatform==1.7.0) (1.15.0)\n",
      "Requirement already satisfied: pyasn1<0.5.0,>=0.4.6 in /opt/conda/lib/python3.7/site-packages (from pyasn1-modules>=0.2.1->google-auth<2.0dev,>=1.25.0->google-api-core[grpc]<3.0.0dev,>=1.26.0->google-cloud-aiplatform==1.7.0) (0.4.8)\n",
      "Requirement already satisfied: pycparser in /opt/conda/lib/python3.7/site-packages (from cffi>=1.0.0->google-crc32c<2.0dev,>=1.0->google-resumable-media<3.0dev,>=0.6.0->google-cloud-bigquery<3.0.0dev,>=1.15.0->google-cloud-aiplatform==1.7.0) (2.21)\n",
      "Requirement already satisfied: kfp==1.8.9 in /home/jupyter/.local/lib/python3.7/site-packages (1.8.9)\n",
      "Requirement already satisfied: google-api-python-client<2,>=1.7.8 in /home/jupyter/.local/lib/python3.7/site-packages (from kfp==1.8.9) (1.12.11)\n",
      "Requirement already satisfied: Deprecated<2,>=1.2.7 in /home/jupyter/.local/lib/python3.7/site-packages (from kfp==1.8.9) (1.2.13)\n",
      "Requirement already satisfied: click<9,>=7.1.2 in /opt/conda/lib/python3.7/site-packages (from kfp==1.8.9) (8.0.4)\n",
      "Requirement already satisfied: requests-toolbelt<1,>=0.8.0 in /home/jupyter/.local/lib/python3.7/site-packages (from kfp==1.8.9) (0.9.1)\n",
      "Requirement already satisfied: strip-hints<1,>=0.1.8 in /home/jupyter/.local/lib/python3.7/site-packages (from kfp==1.8.9) (0.1.10)\n",
      "Requirement already satisfied: protobuf<4,>=3.13.0 in /opt/conda/lib/python3.7/site-packages (from kfp==1.8.9) (3.19.4)\n",
      "Requirement already satisfied: kubernetes<19,>=8.0.0 in /home/jupyter/.local/lib/python3.7/site-packages (from kfp==1.8.9) (18.20.0)\n",
      "Requirement already satisfied: PyYAML<6,>=5.3 in /home/jupyter/.local/lib/python3.7/site-packages (from kfp==1.8.9) (5.4.1)\n",
      "Requirement already satisfied: jsonschema<4,>=3.0.1 in /home/jupyter/.local/lib/python3.7/site-packages (from kfp==1.8.9) (3.2.0)\n",
      "Requirement already satisfied: cloudpickle<3,>=2.0.0 in /opt/conda/lib/python3.7/site-packages (from kfp==1.8.9) (2.0.0)\n",
      "Requirement already satisfied: pydantic<2,>=1.8.2 in /opt/conda/lib/python3.7/site-packages (from kfp==1.8.9) (1.9.0)\n",
      "Requirement already satisfied: typing-extensions<4,>=3.7.4 in /home/jupyter/.local/lib/python3.7/site-packages (from kfp==1.8.9) (3.10.0.2)\n",
      "Requirement already satisfied: docstring-parser<1,>=0.7.3 in /home/jupyter/.local/lib/python3.7/site-packages (from kfp==1.8.9) (0.13)\n",
      "Requirement already satisfied: fire<1,>=0.3.1 in /home/jupyter/.local/lib/python3.7/site-packages (from kfp==1.8.9) (0.4.0)\n",
      "Requirement already satisfied: typer<1.0,>=0.3.2 in /home/jupyter/.local/lib/python3.7/site-packages (from kfp==1.8.9) (0.4.1)\n",
      "Requirement already satisfied: tabulate<1,>=0.8.6 in /home/jupyter/.local/lib/python3.7/site-packages (from kfp==1.8.9) (0.8.9)\n",
      "Requirement already satisfied: absl-py<=0.11,>=0.9 in /home/jupyter/.local/lib/python3.7/site-packages (from kfp==1.8.9) (0.11.0)\n",
      "Requirement already satisfied: kfp-pipeline-spec<0.2.0,>=0.1.13 in /home/jupyter/.local/lib/python3.7/site-packages (from kfp==1.8.9) (0.1.14)\n",
      "Requirement already satisfied: kfp-server-api<2.0.0,>=1.1.2 in /home/jupyter/.local/lib/python3.7/site-packages (from kfp==1.8.9) (1.8.1)\n",
      "Requirement already satisfied: google-auth<2,>=1.6.1 in /home/jupyter/.local/lib/python3.7/site-packages (from kfp==1.8.9) (1.35.0)\n",
      "Requirement already satisfied: uritemplate<4,>=3.0.1 in /home/jupyter/.local/lib/python3.7/site-packages (from kfp==1.8.9) (3.0.1)\n",
      "Requirement already satisfied: google-cloud-storage<2,>=1.20.0 in /home/jupyter/.local/lib/python3.7/site-packages (from kfp==1.8.9) (1.44.0)\n",
      "Requirement already satisfied: six in /opt/conda/lib/python3.7/site-packages (from absl-py<=0.11,>=0.9->kfp==1.8.9) (1.16.0)\n",
      "Requirement already satisfied: importlib-metadata in /opt/conda/lib/python3.7/site-packages (from click<9,>=7.1.2->kfp==1.8.9) (4.11.3)\n",
      "Requirement already satisfied: wrapt<2,>=1.10 in /opt/conda/lib/python3.7/site-packages (from Deprecated<2,>=1.2.7->kfp==1.8.9) (1.14.0)\n",
      "Requirement already satisfied: termcolor in /opt/conda/lib/python3.7/site-packages (from fire<1,>=0.3.1->kfp==1.8.9) (1.1.0)\n",
      "Requirement already satisfied: google-auth-httplib2>=0.0.3 in /opt/conda/lib/python3.7/site-packages (from google-api-python-client<2,>=1.7.8->kfp==1.8.9) (0.1.0)\n",
      "Requirement already satisfied: httplib2<1dev,>=0.15.0 in /opt/conda/lib/python3.7/site-packages (from google-api-python-client<2,>=1.7.8->kfp==1.8.9) (0.20.4)\n",
      "Requirement already satisfied: google-api-core<3dev,>=1.21.0 in /home/jupyter/.local/lib/python3.7/site-packages (from google-api-python-client<2,>=1.7.8->kfp==1.8.9) (1.31.5)\n",
      "Requirement already satisfied: cachetools<5.0,>=2.0.0 in /home/jupyter/.local/lib/python3.7/site-packages (from google-auth<2,>=1.6.1->kfp==1.8.9) (4.2.4)\n",
      "Requirement already satisfied: pyasn1-modules>=0.2.1 in /opt/conda/lib/python3.7/site-packages (from google-auth<2,>=1.6.1->kfp==1.8.9) (0.2.7)\n",
      "Requirement already satisfied: rsa<5,>=3.1.4 in /opt/conda/lib/python3.7/site-packages (from google-auth<2,>=1.6.1->kfp==1.8.9) (4.8)\n",
      "Requirement already satisfied: setuptools>=40.3.0 in /opt/conda/lib/python3.7/site-packages (from google-auth<2,>=1.6.1->kfp==1.8.9) (59.8.0)\n",
      "Requirement already satisfied: requests<3.0.0dev,>=2.18.0 in /opt/conda/lib/python3.7/site-packages (from google-cloud-storage<2,>=1.20.0->kfp==1.8.9) (2.27.1)\n",
      "Requirement already satisfied: google-resumable-media<3.0dev,>=1.3.0 in /opt/conda/lib/python3.7/site-packages (from google-cloud-storage<2,>=1.20.0->kfp==1.8.9) (2.3.2)\n",
      "Requirement already satisfied: google-cloud-core<3.0dev,>=1.6.0 in /opt/conda/lib/python3.7/site-packages (from google-cloud-storage<2,>=1.20.0->kfp==1.8.9) (2.2.3)\n",
      "Requirement already satisfied: pyrsistent>=0.14.0 in /opt/conda/lib/python3.7/site-packages (from jsonschema<4,>=3.0.1->kfp==1.8.9) (0.18.1)\n",
      "Requirement already satisfied: attrs>=17.4.0 in /opt/conda/lib/python3.7/site-packages (from jsonschema<4,>=3.0.1->kfp==1.8.9) (21.4.0)\n",
      "Requirement already satisfied: python-dateutil in /opt/conda/lib/python3.7/site-packages (from kfp-server-api<2.0.0,>=1.1.2->kfp==1.8.9) (2.8.2)\n",
      "Requirement already satisfied: certifi in /opt/conda/lib/python3.7/site-packages (from kfp-server-api<2.0.0,>=1.1.2->kfp==1.8.9) (2021.10.8)\n",
      "Requirement already satisfied: urllib3>=1.15 in /opt/conda/lib/python3.7/site-packages (from kfp-server-api<2.0.0,>=1.1.2->kfp==1.8.9) (1.26.8)\n",
      "Requirement already satisfied: requests-oauthlib in /opt/conda/lib/python3.7/site-packages (from kubernetes<19,>=8.0.0->kfp==1.8.9) (1.3.1)\n",
      "Requirement already satisfied: websocket-client!=0.40.0,!=0.41.*,!=0.42.*,>=0.32.0 in /opt/conda/lib/python3.7/site-packages (from kubernetes<19,>=8.0.0->kfp==1.8.9) (1.3.1)\n",
      "Requirement already satisfied: wheel in /opt/conda/lib/python3.7/site-packages (from strip-hints<1,>=0.1.8->kfp==1.8.9) (0.37.1)\n",
      "Requirement already satisfied: pytz in /opt/conda/lib/python3.7/site-packages (from google-api-core<3dev,>=1.21.0->google-api-python-client<2,>=1.7.8->kfp==1.8.9) (2021.3)\n",
      "Requirement already satisfied: packaging>=14.3 in /opt/conda/lib/python3.7/site-packages (from google-api-core<3dev,>=1.21.0->google-api-python-client<2,>=1.7.8->kfp==1.8.9) (21.3)\n",
      "Requirement already satisfied: googleapis-common-protos<2.0dev,>=1.6.0 in /opt/conda/lib/python3.7/site-packages (from google-api-core<3dev,>=1.21.0->google-api-python-client<2,>=1.7.8->kfp==1.8.9) (1.54.0)\n",
      "Requirement already satisfied: google-crc32c<2.0dev,>=1.0 in /opt/conda/lib/python3.7/site-packages (from google-resumable-media<3.0dev,>=1.3.0->google-cloud-storage<2,>=1.20.0->kfp==1.8.9) (1.1.2)\n",
      "Requirement already satisfied: pyparsing!=3.0.0,!=3.0.1,!=3.0.2,!=3.0.3,<4,>=2.4.2 in /opt/conda/lib/python3.7/site-packages (from httplib2<1dev,>=0.15.0->google-api-python-client<2,>=1.7.8->kfp==1.8.9) (3.0.7)\n",
      "Requirement already satisfied: pyasn1<0.5.0,>=0.4.6 in /opt/conda/lib/python3.7/site-packages (from pyasn1-modules>=0.2.1->google-auth<2,>=1.6.1->kfp==1.8.9) (0.4.8)\n",
      "Requirement already satisfied: idna<4,>=2.5 in /opt/conda/lib/python3.7/site-packages (from requests<3.0.0dev,>=2.18.0->google-cloud-storage<2,>=1.20.0->kfp==1.8.9) (3.3)\n",
      "Requirement already satisfied: charset-normalizer~=2.0.0 in /opt/conda/lib/python3.7/site-packages (from requests<3.0.0dev,>=2.18.0->google-cloud-storage<2,>=1.20.0->kfp==1.8.9) (2.0.12)\n",
      "Requirement already satisfied: zipp>=0.5 in /opt/conda/lib/python3.7/site-packages (from importlib-metadata->click<9,>=7.1.2->kfp==1.8.9) (3.7.0)\n",
      "Requirement already satisfied: oauthlib>=3.0.0 in /opt/conda/lib/python3.7/site-packages (from requests-oauthlib->kubernetes<19,>=8.0.0->kfp==1.8.9) (3.2.0)\n",
      "Requirement already satisfied: cffi>=1.0.0 in /opt/conda/lib/python3.7/site-packages (from google-crc32c<2.0dev,>=1.0->google-resumable-media<3.0dev,>=1.3.0->google-cloud-storage<2,>=1.20.0->kfp==1.8.9) (1.15.0)\n",
      "Requirement already satisfied: pycparser in /opt/conda/lib/python3.7/site-packages (from cffi>=1.0.0->google-crc32c<2.0dev,>=1.0->google-resumable-media<3.0dev,>=1.3.0->google-cloud-storage<2,>=1.20.0->kfp==1.8.9) (2.21)\n",
      "Requirement already satisfied: google-cloud-pipeline-components==0.2.0 in /home/jupyter/.local/lib/python3.7/site-packages (0.2.0)\n",
      "Requirement already satisfied: google-api-core<2dev,>=1.26.0 in /home/jupyter/.local/lib/python3.7/site-packages (from google-cloud-pipeline-components==0.2.0) (1.31.5)\n",
      "Requirement already satisfied: kfp<2.0.0,>=1.8.9 in /home/jupyter/.local/lib/python3.7/site-packages (from google-cloud-pipeline-components==0.2.0) (1.8.9)\n",
      "Requirement already satisfied: google-cloud-aiplatform>=1.4.3 in /home/jupyter/.local/lib/python3.7/site-packages (from google-cloud-pipeline-components==0.2.0) (1.7.0)\n",
      "Requirement already satisfied: google-cloud-notebooks>=0.4.0 in /home/jupyter/.local/lib/python3.7/site-packages (from google-cloud-pipeline-components==0.2.0) (1.2.1)\n",
      "Requirement already satisfied: setuptools>=40.3.0 in /opt/conda/lib/python3.7/site-packages (from google-api-core<2dev,>=1.26.0->google-cloud-pipeline-components==0.2.0) (59.8.0)\n",
      "Requirement already satisfied: googleapis-common-protos<2.0dev,>=1.6.0 in /opt/conda/lib/python3.7/site-packages (from google-api-core<2dev,>=1.26.0->google-cloud-pipeline-components==0.2.0) (1.54.0)\n",
      "Requirement already satisfied: pytz in /opt/conda/lib/python3.7/site-packages (from google-api-core<2dev,>=1.26.0->google-cloud-pipeline-components==0.2.0) (2021.3)\n",
      "Requirement already satisfied: six>=1.13.0 in /opt/conda/lib/python3.7/site-packages (from google-api-core<2dev,>=1.26.0->google-cloud-pipeline-components==0.2.0) (1.16.0)\n",
      "Requirement already satisfied: protobuf>=3.12.0 in /opt/conda/lib/python3.7/site-packages (from google-api-core<2dev,>=1.26.0->google-cloud-pipeline-components==0.2.0) (3.19.4)\n",
      "Requirement already satisfied: google-auth<2.0dev,>=1.25.0 in /home/jupyter/.local/lib/python3.7/site-packages (from google-api-core<2dev,>=1.26.0->google-cloud-pipeline-components==0.2.0) (1.35.0)\n",
      "Requirement already satisfied: packaging>=14.3 in /opt/conda/lib/python3.7/site-packages (from google-api-core<2dev,>=1.26.0->google-cloud-pipeline-components==0.2.0) (21.3)\n",
      "Requirement already satisfied: requests<3.0.0dev,>=2.18.0 in /opt/conda/lib/python3.7/site-packages (from google-api-core<2dev,>=1.26.0->google-cloud-pipeline-components==0.2.0) (2.27.1)\n",
      "Requirement already satisfied: proto-plus>=1.10.1 in /opt/conda/lib/python3.7/site-packages (from google-cloud-aiplatform>=1.4.3->google-cloud-pipeline-components==0.2.0) (1.20.3)\n",
      "Requirement already satisfied: google-cloud-bigquery<3.0.0dev,>=1.15.0 in /opt/conda/lib/python3.7/site-packages (from google-cloud-aiplatform>=1.4.3->google-cloud-pipeline-components==0.2.0) (2.34.2)\n",
      "Requirement already satisfied: google-cloud-storage<2.0.0dev,>=1.32.0 in /home/jupyter/.local/lib/python3.7/site-packages (from google-cloud-aiplatform>=1.4.3->google-cloud-pipeline-components==0.2.0) (1.44.0)\n",
      "Requirement already satisfied: fire<1,>=0.3.1 in /home/jupyter/.local/lib/python3.7/site-packages (from kfp<2.0.0,>=1.8.9->google-cloud-pipeline-components==0.2.0) (0.4.0)\n",
      "Requirement already satisfied: kubernetes<19,>=8.0.0 in /home/jupyter/.local/lib/python3.7/site-packages (from kfp<2.0.0,>=1.8.9->google-cloud-pipeline-components==0.2.0) (18.20.0)\n",
      "Requirement already satisfied: typing-extensions<4,>=3.7.4 in /home/jupyter/.local/lib/python3.7/site-packages (from kfp<2.0.0,>=1.8.9->google-cloud-pipeline-components==0.2.0) (3.10.0.2)\n",
      "Requirement already satisfied: kfp-server-api<2.0.0,>=1.1.2 in /home/jupyter/.local/lib/python3.7/site-packages (from kfp<2.0.0,>=1.8.9->google-cloud-pipeline-components==0.2.0) (1.8.1)\n",
      "Requirement already satisfied: absl-py<=0.11,>=0.9 in /home/jupyter/.local/lib/python3.7/site-packages (from kfp<2.0.0,>=1.8.9->google-cloud-pipeline-components==0.2.0) (0.11.0)\n",
      "Requirement already satisfied: jsonschema<4,>=3.0.1 in /home/jupyter/.local/lib/python3.7/site-packages (from kfp<2.0.0,>=1.8.9->google-cloud-pipeline-components==0.2.0) (3.2.0)\n",
      "Requirement already satisfied: tabulate<1,>=0.8.6 in /home/jupyter/.local/lib/python3.7/site-packages (from kfp<2.0.0,>=1.8.9->google-cloud-pipeline-components==0.2.0) (0.8.9)\n",
      "Requirement already satisfied: kfp-pipeline-spec<0.2.0,>=0.1.13 in /home/jupyter/.local/lib/python3.7/site-packages (from kfp<2.0.0,>=1.8.9->google-cloud-pipeline-components==0.2.0) (0.1.14)\n",
      "Requirement already satisfied: typer<1.0,>=0.3.2 in /home/jupyter/.local/lib/python3.7/site-packages (from kfp<2.0.0,>=1.8.9->google-cloud-pipeline-components==0.2.0) (0.4.1)\n",
      "Requirement already satisfied: strip-hints<1,>=0.1.8 in /home/jupyter/.local/lib/python3.7/site-packages (from kfp<2.0.0,>=1.8.9->google-cloud-pipeline-components==0.2.0) (0.1.10)\n",
      "Requirement already satisfied: pydantic<2,>=1.8.2 in /opt/conda/lib/python3.7/site-packages (from kfp<2.0.0,>=1.8.9->google-cloud-pipeline-components==0.2.0) (1.9.0)\n",
      "Requirement already satisfied: google-api-python-client<2,>=1.7.8 in /home/jupyter/.local/lib/python3.7/site-packages (from kfp<2.0.0,>=1.8.9->google-cloud-pipeline-components==0.2.0) (1.12.11)\n",
      "Requirement already satisfied: docstring-parser<1,>=0.7.3 in /home/jupyter/.local/lib/python3.7/site-packages (from kfp<2.0.0,>=1.8.9->google-cloud-pipeline-components==0.2.0) (0.13)\n",
      "Requirement already satisfied: PyYAML<6,>=5.3 in /home/jupyter/.local/lib/python3.7/site-packages (from kfp<2.0.0,>=1.8.9->google-cloud-pipeline-components==0.2.0) (5.4.1)\n",
      "Requirement already satisfied: cloudpickle<3,>=2.0.0 in /opt/conda/lib/python3.7/site-packages (from kfp<2.0.0,>=1.8.9->google-cloud-pipeline-components==0.2.0) (2.0.0)\n",
      "Requirement already satisfied: uritemplate<4,>=3.0.1 in /home/jupyter/.local/lib/python3.7/site-packages (from kfp<2.0.0,>=1.8.9->google-cloud-pipeline-components==0.2.0) (3.0.1)\n",
      "Requirement already satisfied: requests-toolbelt<1,>=0.8.0 in /home/jupyter/.local/lib/python3.7/site-packages (from kfp<2.0.0,>=1.8.9->google-cloud-pipeline-components==0.2.0) (0.9.1)\n",
      "Requirement already satisfied: click<9,>=7.1.2 in /opt/conda/lib/python3.7/site-packages (from kfp<2.0.0,>=1.8.9->google-cloud-pipeline-components==0.2.0) (8.0.4)\n",
      "Requirement already satisfied: Deprecated<2,>=1.2.7 in /home/jupyter/.local/lib/python3.7/site-packages (from kfp<2.0.0,>=1.8.9->google-cloud-pipeline-components==0.2.0) (1.2.13)\n",
      "Requirement already satisfied: importlib-metadata in /opt/conda/lib/python3.7/site-packages (from click<9,>=7.1.2->kfp<2.0.0,>=1.8.9->google-cloud-pipeline-components==0.2.0) (4.11.3)\n",
      "Requirement already satisfied: wrapt<2,>=1.10 in /opt/conda/lib/python3.7/site-packages (from Deprecated<2,>=1.2.7->kfp<2.0.0,>=1.8.9->google-cloud-pipeline-components==0.2.0) (1.14.0)\n",
      "Requirement already satisfied: termcolor in /opt/conda/lib/python3.7/site-packages (from fire<1,>=0.3.1->kfp<2.0.0,>=1.8.9->google-cloud-pipeline-components==0.2.0) (1.1.0)\n",
      "Requirement already satisfied: grpcio<2.0dev,>=1.29.0 in /opt/conda/lib/python3.7/site-packages (from google-api-core<2dev,>=1.26.0->google-cloud-pipeline-components==0.2.0) (1.44.0)\n",
      "Requirement already satisfied: httplib2<1dev,>=0.15.0 in /opt/conda/lib/python3.7/site-packages (from google-api-python-client<2,>=1.7.8->kfp<2.0.0,>=1.8.9->google-cloud-pipeline-components==0.2.0) (0.20.4)\n",
      "Requirement already satisfied: google-auth-httplib2>=0.0.3 in /opt/conda/lib/python3.7/site-packages (from google-api-python-client<2,>=1.7.8->kfp<2.0.0,>=1.8.9->google-cloud-pipeline-components==0.2.0) (0.1.0)\n",
      "Requirement already satisfied: pyasn1-modules>=0.2.1 in /opt/conda/lib/python3.7/site-packages (from google-auth<2.0dev,>=1.25.0->google-api-core<2dev,>=1.26.0->google-cloud-pipeline-components==0.2.0) (0.2.7)\n",
      "Requirement already satisfied: rsa<5,>=3.1.4 in /opt/conda/lib/python3.7/site-packages (from google-auth<2.0dev,>=1.25.0->google-api-core<2dev,>=1.26.0->google-cloud-pipeline-components==0.2.0) (4.8)\n",
      "Requirement already satisfied: cachetools<5.0,>=2.0.0 in /home/jupyter/.local/lib/python3.7/site-packages (from google-auth<2.0dev,>=1.25.0->google-api-core<2dev,>=1.26.0->google-cloud-pipeline-components==0.2.0) (4.2.4)\n",
      "Requirement already satisfied: google-cloud-core<3.0.0dev,>=1.4.1 in /opt/conda/lib/python3.7/site-packages (from google-cloud-bigquery<3.0.0dev,>=1.15.0->google-cloud-aiplatform>=1.4.3->google-cloud-pipeline-components==0.2.0) (2.2.3)\n",
      "Requirement already satisfied: google-resumable-media<3.0dev,>=0.6.0 in /opt/conda/lib/python3.7/site-packages (from google-cloud-bigquery<3.0.0dev,>=1.15.0->google-cloud-aiplatform>=1.4.3->google-cloud-pipeline-components==0.2.0) (2.3.2)\n",
      "Requirement already satisfied: python-dateutil<3.0dev,>=2.7.2 in /opt/conda/lib/python3.7/site-packages (from google-cloud-bigquery<3.0.0dev,>=1.15.0->google-cloud-aiplatform>=1.4.3->google-cloud-pipeline-components==0.2.0) (2.8.2)\n",
      "Requirement already satisfied: pyrsistent>=0.14.0 in /opt/conda/lib/python3.7/site-packages (from jsonschema<4,>=3.0.1->kfp<2.0.0,>=1.8.9->google-cloud-pipeline-components==0.2.0) (0.18.1)\n",
      "Requirement already satisfied: attrs>=17.4.0 in /opt/conda/lib/python3.7/site-packages (from jsonschema<4,>=3.0.1->kfp<2.0.0,>=1.8.9->google-cloud-pipeline-components==0.2.0) (21.4.0)\n",
      "Requirement already satisfied: urllib3>=1.15 in /opt/conda/lib/python3.7/site-packages (from kfp-server-api<2.0.0,>=1.1.2->kfp<2.0.0,>=1.8.9->google-cloud-pipeline-components==0.2.0) (1.26.8)\n",
      "Requirement already satisfied: certifi in /opt/conda/lib/python3.7/site-packages (from kfp-server-api<2.0.0,>=1.1.2->kfp<2.0.0,>=1.8.9->google-cloud-pipeline-components==0.2.0) (2021.10.8)\n",
      "Requirement already satisfied: requests-oauthlib in /opt/conda/lib/python3.7/site-packages (from kubernetes<19,>=8.0.0->kfp<2.0.0,>=1.8.9->google-cloud-pipeline-components==0.2.0) (1.3.1)\n",
      "Requirement already satisfied: websocket-client!=0.40.0,!=0.41.*,!=0.42.*,>=0.32.0 in /opt/conda/lib/python3.7/site-packages (from kubernetes<19,>=8.0.0->kfp<2.0.0,>=1.8.9->google-cloud-pipeline-components==0.2.0) (1.3.1)\n",
      "Requirement already satisfied: pyparsing!=3.0.5,>=2.0.2 in /opt/conda/lib/python3.7/site-packages (from packaging>=14.3->google-api-core<2dev,>=1.26.0->google-cloud-pipeline-components==0.2.0) (3.0.7)\n",
      "Requirement already satisfied: charset-normalizer~=2.0.0 in /opt/conda/lib/python3.7/site-packages (from requests<3.0.0dev,>=2.18.0->google-api-core<2dev,>=1.26.0->google-cloud-pipeline-components==0.2.0) (2.0.12)\n",
      "Requirement already satisfied: idna<4,>=2.5 in /opt/conda/lib/python3.7/site-packages (from requests<3.0.0dev,>=2.18.0->google-api-core<2dev,>=1.26.0->google-cloud-pipeline-components==0.2.0) (3.3)\n",
      "Requirement already satisfied: wheel in /opt/conda/lib/python3.7/site-packages (from strip-hints<1,>=0.1.8->kfp<2.0.0,>=1.8.9->google-cloud-pipeline-components==0.2.0) (0.37.1)\n",
      "Requirement already satisfied: google-crc32c<2.0dev,>=1.0 in /opt/conda/lib/python3.7/site-packages (from google-resumable-media<3.0dev,>=0.6.0->google-cloud-bigquery<3.0.0dev,>=1.15.0->google-cloud-aiplatform>=1.4.3->google-cloud-pipeline-components==0.2.0) (1.1.2)\n",
      "Requirement already satisfied: pyasn1<0.5.0,>=0.4.6 in /opt/conda/lib/python3.7/site-packages (from pyasn1-modules>=0.2.1->google-auth<2.0dev,>=1.25.0->google-api-core<2dev,>=1.26.0->google-cloud-pipeline-components==0.2.0) (0.4.8)\n",
      "Requirement already satisfied: zipp>=0.5 in /opt/conda/lib/python3.7/site-packages (from importlib-metadata->click<9,>=7.1.2->kfp<2.0.0,>=1.8.9->google-cloud-pipeline-components==0.2.0) (3.7.0)\n",
      "Requirement already satisfied: oauthlib>=3.0.0 in /opt/conda/lib/python3.7/site-packages (from requests-oauthlib->kubernetes<19,>=8.0.0->kfp<2.0.0,>=1.8.9->google-cloud-pipeline-components==0.2.0) (3.2.0)\n",
      "Requirement already satisfied: cffi>=1.0.0 in /opt/conda/lib/python3.7/site-packages (from google-crc32c<2.0dev,>=1.0->google-resumable-media<3.0dev,>=0.6.0->google-cloud-bigquery<3.0.0dev,>=1.15.0->google-cloud-aiplatform>=1.4.3->google-cloud-pipeline-components==0.2.0) (1.15.0)\n",
      "Requirement already satisfied: pycparser in /opt/conda/lib/python3.7/site-packages (from cffi>=1.0.0->google-crc32c<2.0dev,>=1.0->google-resumable-media<3.0dev,>=0.6.0->google-cloud-bigquery<3.0.0dev,>=1.15.0->google-cloud-aiplatform>=1.4.3->google-cloud-pipeline-components==0.2.0) (2.21)\n"
     ]
    }
   ],
   "source": [
    "# 管理者権限不要な ~/ 配下にインストールするための設定\n",
    "USER_FLAG = '--user'\n",
    "\n",
    "!pip3 install --upgrade pip\n",
    "!pip3 install {USER_FLAG} google-cloud-aiplatform==1.7.0 --upgrade\n",
    "# kfp : Kubeflow Pipelines DSL パッケージ\n",
    "!pip3 install {USER_FLAG} kfp==1.8.9\n",
    "!pip3 install {USER_FLAG} google-cloud-pipeline-components==0.2.0"
   ]
  },
  {
   "cell_type": "code",
   "execution_count": 3,
   "id": "93789140-f9a7-4088-91bc-3d70f1942e44",
   "metadata": {
    "id": "93789140-f9a7-4088-91bc-3d70f1942e44",
    "tags": []
   },
   "outputs": [],
   "source": [
    "import os\n",
    "\n",
    "# 上記のパッケージをインストールした後、カーネルを再起動\n",
    "# 下記コードを実行すると自動的にカーネルが再起動される\n",
    "if not os.getenv('IS_TESTING'):\n",
    "    import IPython\n",
    "\n",
    "    app = IPython.Application.instance()\n",
    "    app.kernel.do_shutdown(True)"
   ]
  },
  {
   "cell_type": "code",
   "execution_count": 2,
   "id": "3f03ebe3-f6b9-47ee-892c-fbe12ee3f5e4",
   "metadata": {
    "id": "3f03ebe3-f6b9-47ee-892c-fbe12ee3f5e4",
    "outputId": "ca02ab2b-ccab-4ac0-b40e-04b20abb5a32"
   },
   "outputs": [
    {
     "name": "stdout",
     "output_type": "stream",
     "text": [
      "KFP SDK version: 1.8.9\n",
      "google_cloud_pipeline_components version: 0.2.0\n"
     ]
    }
   ],
   "source": [
    "# パッケージが正しくインストールされていることを確認\n",
    "# **KFP SDKのバージョンは>>1.8である必要があります\n",
    "!python3 -c \"import kfp; print('KFP SDK version: {}'.format(kfp.__version__))\"\n",
    "!python3 -c \"import google_cloud_pipeline_components; print('google_cloud_pipeline_components version: {}'.format(google_cloud_pipeline_components.__version__))\""
   ]
  },
  {
   "cell_type": "markdown",
   "id": "791139e6-9d7a-4fbe-a69f-c057c31bb14f",
   "metadata": {
    "id": "791139e6-9d7a-4fbe-a69f-c057c31bb14f"
   },
   "source": [
    "## 環境パラメータの設定"
   ]
  },
  {
   "cell_type": "code",
   "execution_count": 3,
   "id": "a3d50631-e18d-411f-a55b-31dbed910b2a",
   "metadata": {
    "id": "a3d50631-e18d-411f-a55b-31dbed910b2a"
   },
   "outputs": [
    {
     "name": "stdout",
     "output_type": "stream",
     "text": [
      "Project ID:  mlops-sandbox-348105\n",
      "BUCKET_NAME:  gs://mlops-system-001\n",
      "env: PATH=/usr/local/cuda/bin:/opt/conda/bin:/opt/conda/condabin:/usr/local/bin:/usr/bin:/bin:/usr/local/games:/usr/games:/home/jupyter/.local/bin\n",
      "PIPELINE_ROOT: gs://mlops-system-001/pipeline_root/\n",
      "REGION: us-central1\n",
      "API_ENDPOINT: us-central1-aiplatform.googleapis.com\n"
     ]
    }
   ],
   "source": [
    "import os\n",
    "\n",
    "\n",
    "PROJECT_ID = ''\n",
    "\n",
    "# gcloud から Google Cloud プロジェクト ID を取得\n",
    "if not os.getenv('IS_TESTING'):\n",
    "    \n",
    "    shell_output=!gcloud config list --format 'value(core.project)' 2>/dev/null\n",
    "    \n",
    "    PROJECT_ID = shell_output[0]\n",
    "    print('Project ID: ', PROJECT_ID)\n",
    "\n",
    "\n",
    "# バケット名を格納する変数を作成\n",
    "# 違うバケットを使用する場合は適宜変更\n",
    "BUCKET_NAME = 'gs://mlops-system-001'\n",
    "print('BUCKET_NAME: ', BUCKET_NAME)\n",
    "\n",
    "# アーティファクトが書き込まれるクラウドストレージのパス(PIPELINE_ROOT)設定\n",
    "PATH = %env PATH\n",
    "%env PATH = {PATH}:/home/jupyter/.local/bin\n",
    "\n",
    "PIPELINE_ROOT = f'{BUCKET_NAME}/pipeline_root/'\n",
    "print(f'PIPELINE_ROOT: {PIPELINE_ROOT}')\n",
    "\n",
    "REGION = 'us-central1'\n",
    "print(f'REGION: {REGION}')\n",
    "\n",
    "# API service endpoint\n",
    "# API_ENDPOINT: Dataset、Model、Job、Pipeline、Endpoint サービスの Vertex AI APIサービスエンドポイント\n",
    "API_ENDPOINT = \"{}-aiplatform.googleapis.com\".format(REGION)\n",
    "print(f'API_ENDPOINT: {API_ENDPOINT}')"
   ]
  },
  {
   "cell_type": "code",
   "execution_count": 4,
   "id": "58e7d597-84e2-4b9a-94eb-8cc2c2646873",
   "metadata": {
    "id": "58e7d597-84e2-4b9a-94eb-8cc2c2646873"
   },
   "outputs": [],
   "source": [
    "# バケットがまだ存在していない場合に限り、クラウドストレージのバケットを作成\n",
    "# ! gsutil mb -l $REGION $BUCKET_NAME"
   ]
  },
  {
   "cell_type": "code",
   "execution_count": 5,
   "id": "2797b8b8-5d7b-4653-bd87-46e5a30c5a7d",
   "metadata": {
    "id": "2797b8b8-5d7b-4653-bd87-46e5a30c5a7d"
   },
   "outputs": [
    {
     "name": "stdout",
     "output_type": "stream",
     "text": [
      "                                 gs://mlops-system-001/pipeline_root/\n",
      "                                 gs://mlops-system-001/sample_dataset/\n"
     ]
    }
   ],
   "source": [
    "# クラウドストレージのバケットの内容を確認して、アクセスを検証\n",
    "! gsutil ls -al $BUCKET_NAME"
   ]
  },
  {
   "cell_type": "markdown",
   "id": "50bc4c7c-4b65-48a6-ac06-dce05cf00979",
   "metadata": {
    "id": "50bc4c7c-4b65-48a6-ac06-dce05cf00979"
   },
   "source": [
    "## モジュールのインポート"
   ]
  },
  {
   "cell_type": "code",
   "execution_count": 6,
   "id": "92f4fcb9-c2b7-4dd3-851f-d55bdcf12a67",
   "metadata": {
    "id": "92f4fcb9-c2b7-4dd3-851f-d55bdcf12a67"
   },
   "outputs": [],
   "source": [
    "import time\n",
    "import matplotlib.pyplot as plt\n",
    "import pandas as pd\n",
    "\n",
    "# import kfp\n",
    "from kfp.v2 import compiler, dsl\n",
    "from kfp.v2.dsl import pipeline, component, Artifact, Dataset, \\\n",
    "                    Input, Metrics, Model, Output, InputPath, OutputPath, \\\n",
    "                    ClassificationMetrics\n",
    "\n",
    "from google.cloud import aiplatform as aip\n",
    "from google_cloud_pipeline_components import aiplatform as gcc_aip\n",
    "\n",
    "from typing import Optional\n",
    "from typing import NamedTuple"
   ]
  },
  {
   "cell_type": "code",
   "execution_count": 7,
   "id": "60b291ea-eb3c-4f51-8f74-571dedd1d961",
   "metadata": {
    "id": "60b291ea-eb3c-4f51-8f74-571dedd1d961"
   },
   "outputs": [
    {
     "name": "stdout",
     "output_type": "stream",
     "text": [
      "pug-image-clf-v1-1650754833\n"
     ]
    }
   ],
   "source": [
    "VER_NAME = 'v1'\n",
    "\n",
    "# ディスプレイネームを生成\n",
    "DISPLAY_NAME = 'pug-image-clf-{}-{}'.format(VER_NAME, str(int(time.time())))\n",
    "print(DISPLAY_NAME)\n",
    "\n",
    "# データセット用の画像パスと、ラベルを記載したCSVを指定\n",
    "SRC_URI = f'{BUCKET_NAME}/sample_dataset/dog_cat_v1/image_labels.csv'"
   ]
  },
  {
   "cell_type": "markdown",
   "id": "ac56c511-0b38-4317-a7e1-144eff8b9785",
   "metadata": {
    "id": "ac56c511-0b38-4317-a7e1-144eff8b9785"
   },
   "source": [
    "## コンポーネントを定義"
   ]
  },
  {
   "cell_type": "markdown",
   "id": "69f59044-8b0c-4238-a39d-67a85d4a8982",
   "metadata": {
    "id": "69f59044-8b0c-4238-a39d-67a85d4a8982",
    "tags": []
   },
   "source": [
    "### データセット作成コンポーネントを定義"
   ]
  },
  {
   "cell_type": "code",
   "execution_count": 8,
   "id": "6838fc35-4845-44cb-9297-01e9659ffd8c",
   "metadata": {
    "id": "6838fc35-4845-44cb-9297-01e9659ffd8c"
   },
   "outputs": [],
   "source": [
    "@component(\n",
    "    base_image = 'python:3.7',\n",
    "    output_component_file = f'{VER_NAME}_create_and_import_dataset_img.yaml',\n",
    "    packages_to_install = ['google-cloud-aiplatform'],\n",
    ")\n",
    "def create_and_import_dataset_image(\n",
    "    project_id: str,\n",
    "    location: str,\n",
    "    display_name: str,\n",
    "    src_uri: str,\n",
    "    sync: bool = True,\n",
    ") -> NamedTuple(\n",
    "    'Outputs',\n",
    "    [\n",
    "        ('dataset_img_resource_name', str), # Return parameter.\n",
    "    ],\n",
    "):\n",
    "    \n",
    "    '''\n",
    "    src_uri -- a string, e.g.\n",
    "        'gs://bucket1/source1.csv'\n",
    "    '''\n",
    "    \n",
    "    from google.cloud import aiplatform as aip\n",
    "    \n",
    "    print('Initializing Vertex AI')\n",
    "    aip.init(project=project_id, location=location)\n",
    "\n",
    "    dataset_img = aip.ImageDataset.create(\n",
    "        display_name = display_name,\n",
    "        gcs_source = src_uri,\n",
    "        import_schema_uri = aip.schema.dataset.ioformat.image.single_label_classification,\n",
    "        sync = sync,\n",
    "    )\n",
    "\n",
    "    dataset_img.wait()\n",
    "    \n",
    "    dataset_img_resource_name = str(dataset_img.resource_name)\n",
    "    \n",
    "    return (dataset_img_resource_name, )"
   ]
  },
  {
   "cell_type": "markdown",
   "id": "fa0522bd-b763-491e-8919-bc681678cc92",
   "metadata": {
    "id": "fa0522bd-b763-491e-8919-bc681678cc92",
    "tags": []
   },
   "source": [
    "### モデルの学習コンポーネントを定義"
   ]
  },
  {
   "cell_type": "code",
   "execution_count": 9,
   "id": "f7bc8c69-43cb-4f94-8bd4-6cfef6688c4c",
   "metadata": {
    "id": "f7bc8c69-43cb-4f94-8bd4-6cfef6688c4c",
    "tags": []
   },
   "outputs": [],
   "source": [
    "@component(\n",
    "    base_image = 'python:3.7',\n",
    "    output_component_file = f'{VER_NAME}_create_img_clf_training.yaml',\n",
    "    packages_to_install = ['google-cloud-aiplatform'],\n",
    ")\n",
    "def create_img_clf_training(\n",
    "    project_id: str,\n",
    "    location: str,\n",
    "    display_name: str,\n",
    "    dataset_img_resource_name: str, # データセットのresource_name\n",
    "    model_display_name: Optional[str] = None,\n",
    "    model_type: str = 'CLOUD',\n",
    "    prediction_type: str = 'classification',\n",
    "    multi_label: bool = False,\n",
    "    training_fraction_split: float = 0.8,\n",
    "    validation_fraction_split: float = 0.1,\n",
    "    test_fraction_split: float = 0.1,\n",
    "    budget_milli_node_hours: int = 8000, # 単位: ミリノード時間 # モデルタイプがCLOUDの場合、[8000, 800000]\n",
    "    disable_early_stopping: bool = False, # True にすると early stopping しない\n",
    "    sync: bool = True,\n",
    ") -> NamedTuple(\n",
    "    'Outputs',\n",
    "    [\n",
    "        ('model_resource_name', str), # Return parameter.\n",
    "    ],\n",
    "):\n",
    "    \n",
    "    from google.cloud import aiplatform as aip\n",
    "    \n",
    "    print('Initializing Vertex AI')\n",
    "    aip.init(project=project_id, location=location)\n",
    "\n",
    "    # 作成済みDatasetを resource_name から取得\n",
    "    my_image_ds = aip.ImageDataset(dataset_img_resource_name)\n",
    "    \n",
    "    # -----------------------------------------------------------------------------------\n",
    "    # モデルを学習\n",
    "    # -----------------------------------------------------------------------------------\n",
    "    job = aip.AutoMLImageTrainingJob(\n",
    "        display_name = display_name,\n",
    "        model_type = model_type,\n",
    "        prediction_type = prediction_type,\n",
    "        multi_label = multi_label\n",
    "    )\n",
    "\n",
    "    model = job.run(\n",
    "        dataset = my_image_ds,\n",
    "        model_display_name = model_display_name,\n",
    "        training_fraction_split = training_fraction_split,\n",
    "        validation_fraction_split = validation_fraction_split,\n",
    "        test_fraction_split = test_fraction_split,\n",
    "        budget_milli_node_hours = budget_milli_node_hours,\n",
    "        disable_early_stopping = disable_early_stopping,\n",
    "        sync = sync,\n",
    "    )\n",
    "    # -----------------------------------------------------------------------------------\n",
    "    # モデルをロード\n",
    "    # -----------------------------------------------------------------------------------\n",
    "    # model_location = 'projects/xxx/locations/us-central1/models/xxx'\n",
    "    # print('Getting model from {}'.format(model_location))\n",
    "    # model = aip.Model(model_location)\n",
    "    # -----------------------------------------------------------------------------------\n",
    "\n",
    "    model.wait()\n",
    "\n",
    "    model_resource_name = str(model.resource_name)\n",
    "    \n",
    "    return (model_resource_name, )"
   ]
  },
  {
   "cell_type": "markdown",
   "id": "ca98d819-6552-43f5-b7dc-50518de5b090",
   "metadata": {
    "id": "ca98d819-6552-43f5-b7dc-50518de5b090"
   },
   "source": [
    "### モデルの性能評価コンポーネントを定義"
   ]
  },
  {
   "cell_type": "code",
   "execution_count": 10,
   "id": "be854c5e-9724-499c-8b56-04420eea9175",
   "metadata": {
    "id": "be854c5e-9724-499c-8b56-04420eea9175",
    "tags": []
   },
   "outputs": [],
   "source": [
    "@component(\n",
    "    base_image = 'gcr.io/deeplearning-platform-release/tf2-cpu.2-3:latest',\n",
    "    output_component_file = f'{VER_NAME}_clf_eval_component.yaml',\n",
    "    packages_to_install = ['google-cloud-aiplatform'],\n",
    ")\n",
    "def clf_model_eval_metrics(\n",
    "    project: str,\n",
    "    location: str, \n",
    "    api_endpoint: str, \n",
    "    thresholds_dict_str: str,\n",
    "    model_resource_name: str, # modelのresource_name\n",
    "    metrics: Output[Metrics],\n",
    "    metricsc: Output[ClassificationMetrics],\n",
    ") -> NamedTuple(\n",
    "    'Outputs',\n",
    "    [\n",
    "        ('dep_decision', str), # Return parameter.\n",
    "    ],\n",
    "):\n",
    "    import json\n",
    "    import logging\n",
    "\n",
    "    from google.cloud import aiplatform as aip\n",
    "\n",
    "\n",
    "    # モデルの評価情報の取得\n",
    "    def get_eval_info(client, model_name):\n",
    "\n",
    "        from google.protobuf.json_format import MessageToDict\n",
    "        \n",
    "        response = client.list_model_evaluations(parent=model_name)\n",
    "        metrics_list = []\n",
    "        metrics_string_list = []\n",
    "        \n",
    "        for evaluation in response:\n",
    "            \n",
    "            print('model_evaluation')\n",
    "            print(' name:', evaluation.name)\n",
    "            print(' metrics_schema_uri:', evaluation.metrics_schema_uri)\n",
    "            \n",
    "            metrics = MessageToDict(evaluation._pb.metrics)\n",
    "            \n",
    "            for metric in metrics.keys():\n",
    "                logging.info('metric: %s, value: %s', metric, metrics[metric])\n",
    "                \n",
    "            metrics_str = json.dumps(metrics)\n",
    "            metrics_list.append(metrics)\n",
    "            metrics_string_list.append(metrics_str)\n",
    "\n",
    "        return (\n",
    "            evaluation.name,\n",
    "            metrics_list,\n",
    "            metrics_string_list,\n",
    "        )\n",
    "\n",
    "    \n",
    "\n",
    "    def log_metrics(metrics_list, metricsc):\n",
    "        \"\"\"\n",
    "        GCS　に、評価値をアーティファクトとして残すための関数\n",
    "        \"\"\"\n",
    "        test_confusion_matrix = metrics_list[0]['confusionMatrix']\n",
    "        logging.info('rows: %s', test_confusion_matrix['rows'])\n",
    "\n",
    "        # confusionMatrixから得られる値を使って、False Positive Rate と True Positive Rateを算出\n",
    "        fpr = []\n",
    "        tpr = []\n",
    "        thresholds = []\n",
    "\n",
    "        for item in metrics_list[0]['confidenceMetrics']:\n",
    "            fpr.append(item.get('falsePositiveRate', 0.0))\n",
    "            tpr.append(item.get('recall', 0.0))\n",
    "            thresholds.append(item.get('confidenceThreshold', 0.0))\n",
    "\n",
    "        metricsc.log_roc_curve(fpr, tpr, thresholds)\n",
    "\n",
    "        # 混同行列を計算\n",
    "        annotations = []\n",
    "        for item in test_confusion_matrix['annotationSpecs']:\n",
    "            annotations.append(item['displayName'])\n",
    "        logging.info('confusion matrix annotations: %s', annotations)\n",
    "\n",
    "        metricsc.log_confusion_matrix(\n",
    "            annotations,\n",
    "            test_confusion_matrix['rows'],\n",
    "        )\n",
    "\n",
    "        # log textual metrics info as well\n",
    "        for metric in metrics_list[0].keys():\n",
    "            if metric != 'confidenceMetrics':\n",
    "                val_string = json.dumps(metrics_list[0][metric])\n",
    "                metrics.log_metric(metric, val_string)\n",
    "\n",
    "\n",
    "    # Use the given metrics threshold(s) to determine whether the model is accurate enough to deploy.\n",
    "    def classification_thresholds_check(metrics_dict, thresholds_dict):\n",
    "        for k, v in thresholds_dict.items():\n",
    "            logging.info('k {}, v {}'.format(k, v))\n",
    "            \n",
    "            if k in ['auRoc', 'auPrc']:\n",
    "                # higher is better\n",
    "                if metrics_dict[k] < v:\n",
    "                    # if under threshold, don't deploy\n",
    "                    logging.info('{} < {}; returning False'.format(metrics_dict[k], v))\n",
    "                    return False\n",
    "        \n",
    "        # if under threshold, don't deploy\n",
    "        logging.info('threshold checks passed.')\n",
    "        \n",
    "        return True\n",
    "\n",
    "\n",
    "    # ------------------------------------------------------------------------------------------------\n",
    "    logging.getLogger().setLevel(logging.INFO)\n",
    "    \n",
    "    aip.init(project=project)\n",
    "\n",
    "    logging.info('model path: %s', model_resource_name)\n",
    "    client_options = {'api_endpoint': api_endpoint}\n",
    "    client = aip.gapic.ModelServiceClient(client_options=client_options)\n",
    "    eval_name, metrics_list, metrics_str_list = get_eval_info(client, model_resource_name)\n",
    "    \n",
    "    logging.info('got evaluation name: %s', eval_name)\n",
    "    logging.info('got metrics list: %s', metrics_list)\n",
    "    \n",
    "    log_metrics(metrics_list, metricsc) # GCS　に、評価値をアーティファクトとして残すための処理\n",
    "    thresholds_dict = json.loads(thresholds_dict_str)\n",
    "    \n",
    "    deploy = classification_thresholds_check(metrics_list[0], thresholds_dict)\n",
    "    \n",
    "    if deploy:\n",
    "        dep_decision = 'true'\n",
    "    else:\n",
    "        dep_decision = 'false'\n",
    "        \n",
    "    logging.info('deployment decision is %s', dep_decision)\n",
    "\n",
    "    return (dep_decision,)"
   ]
  },
  {
   "cell_type": "markdown",
   "id": "a5530c16-b721-4638-be50-dad895883535",
   "metadata": {
    "id": "a5530c16-b721-4638-be50-dad895883535"
   },
   "source": [
    "### エンドポイント作成コンポーネントを定義"
   ]
  },
  {
   "cell_type": "code",
   "execution_count": 11,
   "id": "8b5de103-a81b-4eb9-a274-956becc4d686",
   "metadata": {
    "id": "8b5de103-a81b-4eb9-a274-956becc4d686",
    "tags": []
   },
   "outputs": [],
   "source": [
    "@component(\n",
    "    base_image='python:3.7',\n",
    "    output_component_file = f'{VER_NAME}_create_endpoint.yaml',\n",
    "    packages_to_install=['google-cloud-aiplatform'],\n",
    ")\n",
    "def create_endpoint(\n",
    "    project_id: str,\n",
    "    display_name: str,\n",
    "    location: str,\n",
    "    sync: bool = True,\n",
    ") -> NamedTuple(\n",
    "    'Outputs',\n",
    "    [\n",
    "        ('endpoint_resource_name', str), # Return parameter.\n",
    "    ],\n",
    "):\n",
    "    \n",
    "    from google.cloud import aiplatform as aip\n",
    "    \n",
    "    endpoint = aip.Endpoint.create(\n",
    "        display_name = display_name, \n",
    "        project = project_id, \n",
    "        location = location,\n",
    "    )\n",
    "    \n",
    "    endpoint.wait()\n",
    "\n",
    "    endpoint_resource_name = str(endpoint.resource_name)\n",
    "    print(f'endpoint_resource_name ::: {endpoint_resource_name}')\n",
    "    \n",
    "    return (endpoint_resource_name, )"
   ]
  },
  {
   "cell_type": "markdown",
   "id": "dff8bf51-8e8e-4f0f-8d03-6f4b744283b2",
   "metadata": {
    "id": "dff8bf51-8e8e-4f0f-8d03-6f4b744283b2"
   },
   "source": [
    "### エンドポイントにDeployするコンポーネントを定義"
   ]
  },
  {
   "cell_type": "code",
   "execution_count": 12,
   "id": "ec99d73e-5848-4039-9529-873052e9d5c2",
   "metadata": {
    "id": "ec99d73e-5848-4039-9529-873052e9d5c2",
    "tags": []
   },
   "outputs": [],
   "source": [
    "@component(\n",
    "    base_image='python:3.7',\n",
    "    output_component_file = f'{VER_NAME}_deploy_model.yaml',\n",
    "    packages_to_install=['google-cloud-aiplatform'],\n",
    ")\n",
    "def deploy_model(\n",
    "    project_id: str,\n",
    "    display_name: str,\n",
    "    location: str,\n",
    "    model_resource_name: str, # modelのresource_name\n",
    "    endpoint_resource_name: str, # endpointのresource_name\n",
    "    sync: bool = True,\n",
    "):\n",
    "    \n",
    "    from google.cloud import aiplatform as aip\n",
    "    \n",
    "    print('Initializing Vertex AI')\n",
    "    aip.init(project=project_id, location=location)\n",
    "    \n",
    "    model = aip.Model(model_resource_name)\n",
    "    endpoint = aip.Endpoint(endpoint_resource_name)\n",
    "    endpoint.deploy(model)"
   ]
  },
  {
   "cell_type": "markdown",
   "id": "2592f597-2866-406c-9bd4-9dda0063ae70",
   "metadata": {
    "id": "2592f597-2866-406c-9bd4-9dda0063ae70"
   },
   "source": [
    "## pipelineを定義"
   ]
  },
  {
   "cell_type": "code",
   "execution_count": 13,
   "id": "889a335b-3ca6-4833-9d86-924ecf8003ba",
   "metadata": {
    "id": "889a335b-3ca6-4833-9d86-924ecf8003ba"
   },
   "outputs": [],
   "source": [
    "@pipeline(\n",
    "    name = f'{VER_NAME}-pug-img-clf-pipeline', \n",
    "    pipeline_root=PIPELINE_ROOT)\n",
    "def pug_img_clf_pipeline(\n",
    "    display_name: str,\n",
    "    project_id: str,\n",
    "    region: str, \n",
    "    src_uri: str, # データセットの読み込みパスとラベルを記述したCSVを指定\n",
    "    api_endpoint: str = 'us-central1-aiplatform.googleapis.com',\n",
    "    thresholds_dict_str: str = '{\"auPrc\": 0.95}', # deploy判定する精度の閾値を設定\n",
    "):\n",
    "    \n",
    "    # データセット作成\n",
    "    ds = create_and_import_dataset_image(\n",
    "            project_id = project_id,\n",
    "            location = region,\n",
    "            display_name = display_name,\n",
    "            src_uri = src_uri,\n",
    "        )\n",
    "    \n",
    "    #  学習\n",
    "    model = create_img_clf_training(\n",
    "            project_id = project_id,\n",
    "            location = region,\n",
    "            display_name = display_name,\n",
    "            dataset_img_resource_name = ds.outputs['dataset_img_resource_name'],\n",
    "        )\n",
    "    \n",
    "    location = region\n",
    "    \n",
    "    # 性能評価\n",
    "    model_eval_task = clf_model_eval_metrics(\n",
    "            project_id,\n",
    "            location,\n",
    "            api_endpoint,\n",
    "            thresholds_dict_str,\n",
    "            model_resource_name = model.outputs['model_resource_name'],\n",
    "        )\n",
    "    \n",
    "    # kfp の Conditionでは、評価ステップの出力を使用してデプロイの進め方を決定\n",
    "    with dsl.Condition(\n",
    "        model_eval_task.outputs['dep_decision'] == 'true', # デプロイ可否判断\n",
    "        name = f'{VER_NAME}_clf_deploy_decision',\n",
    "    ):\n",
    "\n",
    "        # モデルが デプロイするのに十分な精度であると判断されたら\n",
    "\n",
    "        # エンドポイント作成\n",
    "        endpoint = create_endpoint(\n",
    "                project_id, \n",
    "                display_name, \n",
    "                location\n",
    "            )\n",
    "\n",
    "        # デプロイ処理\n",
    "        deploy_model(\n",
    "                project_id, \n",
    "                display_name, \n",
    "                location,\n",
    "                model_resource_name = model.outputs['model_resource_name'], \n",
    "                endpoint_resource_name = endpoint.outputs['endpoint_resource_name'], \n",
    "            )"
   ]
  },
  {
   "cell_type": "markdown",
   "id": "276b12f8-76d5-4223-82e9-045e85964449",
   "metadata": {
    "id": "276b12f8-76d5-4223-82e9-045e85964449"
   },
   "source": [
    "## pipelineをコンパイル"
   ]
  },
  {
   "cell_type": "code",
   "execution_count": 14,
   "id": "653f4d52-2658-4669-93d3-dd049f8558df",
   "metadata": {
    "id": "653f4d52-2658-4669-93d3-dd049f8558df"
   },
   "outputs": [
    {
     "name": "stderr",
     "output_type": "stream",
     "text": [
      "/home/jupyter/.local/lib/python3.7/site-packages/kfp/v2/compiler/compiler.py:1266: FutureWarning: APIs imported from the v1 namespace (e.g. kfp.dsl, kfp.components, etc) will not be supported by the v2 compiler since v2.0.0\n",
      "  category=FutureWarning,\n"
     ]
    }
   ],
   "source": [
    "compiler.Compiler().compile(\n",
    "    pipeline_func = pug_img_clf_pipeline, \n",
    "    package_path = f'{VER_NAME}-pug-img-clf-pipeline.json'\n",
    ")"
   ]
  },
  {
   "cell_type": "markdown",
   "id": "2ec35935-1cfb-4204-8dae-8c020f2e2094",
   "metadata": {
    "id": "2ec35935-1cfb-4204-8dae-8c020f2e2094"
   },
   "source": [
    "## pipeline jobを実行"
   ]
  },
  {
   "cell_type": "code",
   "execution_count": 15,
   "id": "29b39a9f-d8a1-49dd-bd89-3f72c0cc38f6",
   "metadata": {
    "id": "29b39a9f-d8a1-49dd-bd89-3f72c0cc38f6"
   },
   "outputs": [],
   "source": [
    "pipeline_job = aip.PipelineJob(\n",
    "    display_name = DISPLAY_NAME,\n",
    "    template_path = f'{VER_NAME}-pug-img-clf-pipeline.json',\n",
    "    pipeline_root = PIPELINE_ROOT,\n",
    "    parameter_values = {'project_id': PROJECT_ID, \n",
    "                        'display_name': DISPLAY_NAME, \n",
    "                        'region': REGION, \n",
    "                        'src_uri': SRC_URI, \n",
    "                        'api_endpoint': API_ENDPOINT, \n",
    "                        'thresholds_dict_str': '{\"auPrc\": 0.95}',\n",
    "                       },\n",
    "    enable_caching=True # パイプラインの実行でキャッシングを無効にしたい場合は False\n",
    ")"
   ]
  },
  {
   "cell_type": "code",
   "execution_count": 16,
   "id": "96561c35-4f0c-4732-856c-eefc5a5aa02e",
   "metadata": {
    "id": "96561c35-4f0c-4732-856c-eefc5a5aa02e"
   },
   "outputs": [
    {
     "name": "stdout",
     "output_type": "stream",
     "text": [
      "INFO:google.cloud.aiplatform.pipeline_jobs:Creating PipelineJob\n",
      "INFO:google.cloud.aiplatform.pipeline_jobs:PipelineJob created. Resource name: projects/663579093435/locations/us-central1/pipelineJobs/v1-pug-img-clf-pipeline-20220423233449\n",
      "INFO:google.cloud.aiplatform.pipeline_jobs:To use this PipelineJob in another session:\n",
      "INFO:google.cloud.aiplatform.pipeline_jobs:pipeline_job = aiplatform.PipelineJob.get('projects/663579093435/locations/us-central1/pipelineJobs/v1-pug-img-clf-pipeline-20220423233449')\n",
      "INFO:google.cloud.aiplatform.pipeline_jobs:View Pipeline Job:\n",
      "https://console.cloud.google.com/vertex-ai/locations/us-central1/pipelines/runs/v1-pug-img-clf-pipeline-20220423233449?project=663579093435\n"
     ]
    }
   ],
   "source": [
    "pipeline_job.submit() # pipeline jobを実行"
   ]
  },
  {
   "cell_type": "markdown",
   "id": "ca10892e-623c-4c18-8182-dbb7170940c9",
   "metadata": {
    "id": "ca10892e-623c-4c18-8182-dbb7170940c9"
   },
   "source": [
    "## pipeline jobをスケジュール実行"
   ]
  },
  {
   "cell_type": "code",
   "execution_count": null,
   "id": "5c94d7cf-45e9-4f25-b9c2-6e09366cc7d6",
   "metadata": {
    "id": "5c94d7cf-45e9-4f25-b9c2-6e09366cc7d6"
   },
   "outputs": [],
   "source": [
    "from kfp.v2.google.client import AIPlatformClient\n",
    "\n",
    "api_client = AIPlatformClient(project_id=PROJECT_ID, region=REGION)\n",
    "\n",
    "# 必要に応じてタイムゾーンやcronスケジュールを調整\n",
    "response = api_client.create_schedule_from_job_spec(\n",
    "    job_spec_path = f'{VER_NAME}-pug-img-clf-pipeline.json',\n",
    "    schedule = '5 * * * *', # *時5分に実行\n",
    "    time_zone = 'Asia/Tokyo',\n",
    "    parameter_values = {'project_id': PROJECT_ID, \n",
    "                        'display_name': DISPLAY_NAME, \n",
    "                        'region': REGION, \n",
    "                        'src_uri': SRC_URI, \n",
    "                        'api_endpoint': API_ENDPOINT, \n",
    "                        'thresholds_dict_str': '{\"auPrc\": 0.95}',\n",
    "                       },\n",
    "    # pipeline_root=PIPELINE_ROOT  # パイプラインの定義でPIPELINE_ROOTを指定しなかった場合、この引数が必要\n",
    ")"
   ]
  }
 ],
 "metadata": {
  "colab": {
   "collapsed_sections": [],
   "name": "python_func_v7_org.ipynb",
   "provenance": [],
   "toc_visible": true
  },
  "environment": {
   "kernel": "python3",
   "name": "tf2-gpu.2-8.m91",
   "type": "gcloud",
   "uri": "gcr.io/deeplearning-platform-release/tf2-gpu.2-8:m91"
  },
  "kernelspec": {
   "display_name": "Python 3 (ipykernel)",
   "language": "python",
   "name": "python3"
  },
  "language_info": {
   "codemirror_mode": {
    "name": "ipython",
    "version": 3
   },
   "file_extension": ".py",
   "mimetype": "text/x-python",
   "name": "python",
   "nbconvert_exporter": "python",
   "pygments_lexer": "ipython3",
   "version": "3.7.12"
  }
 },
 "nbformat": 4,
 "nbformat_minor": 5
}
